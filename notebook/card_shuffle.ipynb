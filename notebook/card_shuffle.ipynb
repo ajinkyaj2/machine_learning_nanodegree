{
 "cells": [
  {
   "cell_type": "code",
   "execution_count": 1,
   "metadata": {},
   "outputs": [],
   "source": [
    "# importing modules\n",
    "import itertools, random"
   ]
  },
  {
   "cell_type": "code",
   "execution_count": 128,
   "metadata": {},
   "outputs": [],
   "source": [
    "# class for shuffling and distributing cards\n",
    "class shuffle_dist_cards:\n",
    "    def __init__(self, no_of_players):\n",
    "        ''' Initializing all require var\n",
    "        Arg:\n",
    "        no_of_players - Total number of player playing\n",
    "        Returns:\n",
    "        Dictionary of players as a key and his cards list as value\n",
    "        '''\n",
    "        self.no_of_cards = 52\n",
    "        self.no_of_players = no_of_players\n",
    "        self.deck =  []\n",
    "        self.card_dist_dict = {}\n",
    "        \n",
    "    def create_n_shuffle_deck(self):\n",
    "        # make a deck of cards\n",
    "        self.deck = list(itertools.product(range(1,14),['Spade','Heart','Diamond','Club']))\n",
    "        # shuffle the cards\n",
    "        random.shuffle(self.deck)\n",
    "        \n",
    "    def dist_cards(self):   \n",
    "        '''Distribute cards among all the players''' \n",
    "        for num in range(0,self.no_of_players):\n",
    "            key = 'player_' + str(num+1)\n",
    "            card_dist_dict[key] = [self.deck[i] for i in list(range(num, self.no_of_cards, self.no_of_players))]\n",
    "        return card_dist_dict"
   ]
  },
  {
   "cell_type": "code",
   "execution_count": 130,
   "metadata": {},
   "outputs": [
    {
     "data": {
      "text/plain": [
       "{'player_1': [(10, 'Spade'),\n",
       "  (13, 'Spade'),\n",
       "  (6, 'Heart'),\n",
       "  (5, 'Club'),\n",
       "  (2, 'Club'),\n",
       "  (8, 'Diamond'),\n",
       "  (11, 'Club'),\n",
       "  (4, 'Spade'),\n",
       "  (1, 'Diamond'),\n",
       "  (12, 'Spade'),\n",
       "  (1, 'Heart'),\n",
       "  (6, 'Diamond'),\n",
       "  (6, 'Club')],\n",
       " 'player_2': [(10, 'Heart'),\n",
       "  (4, 'Club'),\n",
       "  (10, 'Diamond'),\n",
       "  (7, 'Diamond'),\n",
       "  (10, 'Club'),\n",
       "  (2, 'Diamond'),\n",
       "  (9, 'Diamond'),\n",
       "  (13, 'Heart'),\n",
       "  (3, 'Diamond'),\n",
       "  (2, 'Spade'),\n",
       "  (5, 'Diamond'),\n",
       "  (11, 'Heart'),\n",
       "  (8, 'Spade')],\n",
       " 'player_3': [(4, 'Diamond'),\n",
       "  (9, 'Heart'),\n",
       "  (9, 'Club'),\n",
       "  (13, 'Diamond'),\n",
       "  (3, 'Club'),\n",
       "  (6, 'Spade'),\n",
       "  (13, 'Club'),\n",
       "  (5, 'Heart'),\n",
       "  (12, 'Heart'),\n",
       "  (8, 'Club'),\n",
       "  (1, 'Club'),\n",
       "  (11, 'Diamond'),\n",
       "  (7, 'Heart')],\n",
       " 'player_4': [(12, 'Club'),\n",
       "  (9, 'Spade'),\n",
       "  (5, 'Spade'),\n",
       "  (7, 'Club'),\n",
       "  (11, 'Spade'),\n",
       "  (7, 'Spade'),\n",
       "  (4, 'Heart'),\n",
       "  (1, 'Spade'),\n",
       "  (8, 'Heart'),\n",
       "  (2, 'Heart'),\n",
       "  (12, 'Diamond'),\n",
       "  (3, 'Spade'),\n",
       "  (3, 'Heart')],\n",
       " 'player_5': [(1, 'Spade'),\n",
       "  (5, 'Diamond'),\n",
       "  (1, 'Heart'),\n",
       "  (12, 'Club'),\n",
       "  (6, 'Spade'),\n",
       "  (12, 'Diamond')],\n",
       " 'player_6': [(10, 'Spade'),\n",
       "  (3, 'Club'),\n",
       "  (8, 'Heart'),\n",
       "  (8, 'Spade'),\n",
       "  (10, 'Diamond'),\n",
       "  (3, 'Heart')],\n",
       " 'player_7': [(13, 'Spade'),\n",
       "  (6, 'Diamond'),\n",
       "  (2, 'Spade'),\n",
       "  (11, 'Heart'),\n",
       "  (2, 'Club'),\n",
       "  (8, 'Club')],\n",
       " 'player_8': [(10, 'Heart'),\n",
       "  (9, 'Heart'),\n",
       "  (13, 'Club'),\n",
       "  (1, 'Diamond'),\n",
       "  (6, 'Heart'),\n",
       "  (12, 'Heart')]}"
      ]
     },
     "execution_count": 130,
     "metadata": {},
     "output_type": "execute_result"
    }
   ],
   "source": [
    "cards_obj = shuffle_dist_cards(4)\n",
    "cards_obj.create_n_shuffle_deck()\n",
    "cards_obj.dist_cards()"
   ]
  },
  {
   "cell_type": "code",
   "execution_count": null,
   "metadata": {},
   "outputs": [],
   "source": []
  }
 ],
 "metadata": {
  "kernelspec": {
   "display_name": "machine_learning_nanodegree",
   "language": "python",
   "name": "machine_learning_nanodegree"
  },
  "language_info": {
   "codemirror_mode": {
    "name": "ipython",
    "version": 3
   },
   "file_extension": ".py",
   "mimetype": "text/x-python",
   "name": "python",
   "nbconvert_exporter": "python",
   "pygments_lexer": "ipython3",
   "version": "3.7.7"
  }
 },
 "nbformat": 4,
 "nbformat_minor": 2
}
